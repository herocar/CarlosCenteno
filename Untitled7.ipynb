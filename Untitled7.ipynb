{
  "nbformat": 4,
  "nbformat_minor": 0,
  "metadata": {
    "colab": {
      "provenance": [],
      "authorship_tag": "ABX9TyOxk2TEQbdltNxwaP0I2K0s",
      "include_colab_link": true
    },
    "kernelspec": {
      "name": "python3",
      "display_name": "Python 3"
    },
    "language_info": {
      "name": "python"
    }
  },
  "cells": [
    {
      "cell_type": "markdown",
      "metadata": {
        "id": "view-in-github",
        "colab_type": "text"
      },
      "source": [
        "<a href=\"https://colab.research.google.com/github/herocar/CarlosCenteno/blob/main/Untitled7.ipynb\" target=\"_parent\"><img src=\"https://colab.research.google.com/assets/colab-badge.svg\" alt=\"Open In Colab\"/></a>"
      ]
    },
    {
      "cell_type": "code",
      "execution_count": null,
      "metadata": {
        "id": "akSt6Qp69h8n"
      },
      "outputs": [],
      "source": []
    },
    {
      "cell_type": "code",
      "execution_count": null,
      "metadata": {
        "colab": {
          "base_uri": "https://localhost:8080/"
        },
        "id": "sMLNJ8Z-7pI_",
        "outputId": "107f7ddc-a5d2-442f-cdcd-f2d9ab5bda84"
      },
      "outputs": [
        {
          "output_type": "stream",
          "name": "stdout",
          "text": [
            "La altura maxima alcanzar es de : 20.408163265306122 metros\n",
            "El tiempo para que alquenze la altura maxima es de : 2.0408163265306123 segundos\n"
          ]
        }
      ],
      "source": [
        "import math \n",
        "\n",
        "\n",
        "def fisica(velocidadInicial, velocidadFinal, tiempo1, tiempo2, aceleracion1, alturaInicial):\n",
        "    cadena = \"Altura maxima\"\n",
        "\n",
        "    if cadena == \"Calcular desplazamiento\":\n",
        "        velocidad_inicial = velocidadInicial  # Velocidad inicial en m/s\n",
        "        aceleracion = aceleracion1  # Aceleración en m/s^2\n",
        "        tiempo = tiempo1  # Tiempo en segundos\n",
        "\n",
        "        velocidad_final = velocidad_inicial + (aceleracion * tiempo)\n",
        "        desplazamiento = (velocidad_inicial * tiempo) + (0.5 * aceleracion * tiempo**2)\n",
        "\n",
        "        print(\"Velocidad f:\", velocidad_final, \"m/s\")\n",
        "        print(\"Desplazamiento:\", desplazamiento, \"metros\")\n",
        "\n",
        "    elif cadena == \"Tiempo caida\":\n",
        "      altura_inicial = alturaInicial  # Altura inicial en metros\n",
        "      gravedad = aceleracion1  # Aceleración debido a la gravedad en m/s^2\n",
        "\n",
        "      velocidad_final = math.sqrt(2 * gravedad * altura_inicial)\n",
        "      tiempo_caída = math.sqrt((2 * altura_inicial) / gravedad)\n",
        "\n",
        "      print(\"Velocidad final:\", velocidad_final, \"m/s\")\n",
        "      print(\"Tiempo de caída:\", tiempo_caída, \"segundos\")\n",
        "\n",
        "    elif cadena == \"Calcular dos tiempos\":\n",
        "      velocidad_inicial = velocidadInicial  # Velocidad inicial en m/s\n",
        "      tiempo_1 = tiempo1  # Tiempo en segundos para la velocidad constante\n",
        "      aceleracion = aceleracion1  # Aceleración en m/s^2\n",
        "      tiempo_2 = tiempo2  # Tiempo en segundos para la aceleración\n",
        "\n",
        "      velocidad_final = velocidad_inicial + (aceleracion * tiempo_2)\n",
        "\n",
        "      desplazamiento_1 = velocidad_inicial * tiempo_1\n",
        "      desplazamiento_2 = (velocidad_inicial * tiempo_2) + (0.5 * aceleracion * tiempo_2**2)\n",
        "      desplazamiento_total = desplazamiento_1 + desplazamiento_2\n",
        "\n",
        "      print(\"Velocidad final:\", velocidad_final, \"m/s\")\n",
        "      print(\"Desplazamiento total:\", desplazamiento_total, \"metros\")\n",
        "\n",
        "    elif cadena == \"Altura maxima\":\n",
        "      \n",
        "      tiempo_alcanzar_altura_maxima = - velocidadInicial / aceleracion1\n",
        "      altura_maxima = (velocidadInicial ** 2) / (2 * abs(aceleracion1))\n",
        "\n",
        "      velocidad_inicial = velocidadInicial  # Velocidad inicial en m/s\n",
        "      aceleracion_gravedad = aceleracion1  # Aceleración debida a la gravedad en m/s^2\n",
        "\n",
        "      print(\"La altura maxima alcanzar es de :\", altura_maxima, \"metros\")\n",
        "     \n",
        "     \n",
        "      print(\"El tiempo para que alquenze la altura maxima es de :\", tiempo_alcanzar_altura_maxima, \"segundos\")\n",
        "\n",
        "\n",
        "# Ejemplo de la función\n",
        "fisica(20, 0, 0, 0, -9.8, 0)"
      ]
    }
  ]
}